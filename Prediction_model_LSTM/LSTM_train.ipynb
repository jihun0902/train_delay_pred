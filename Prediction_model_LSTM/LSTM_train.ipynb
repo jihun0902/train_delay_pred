{
  "nbformat": 4,
  "nbformat_minor": 0,
  "metadata": {
    "colab": {
      "name": "lstm2.ipynb",
      "private_outputs": true,
      "provenance": [],
      "collapsed_sections": []
    },
    "kernelspec": {
      "name": "python3",
      "display_name": "Python 3"
    },
    "accelerator": "GPU"
  },
  "cells": [
    {
      "cell_type": "code",
      "metadata": {
        "id": "JRt0QwQNDgc_"
      },
      "source": [
        "from google.colab import drive\n",
        "drive.mount('/content/drive')"
      ],
      "execution_count": null,
      "outputs": []
    },
    {
      "cell_type": "code",
      "metadata": {
        "id": "0iMKac4M4aaZ"
      },
      "source": [
        "#Pad Model"
      ],
      "execution_count": null,
      "outputs": []
    },
    {
      "cell_type": "code",
      "metadata": {
        "id": "Go2e_sppP17W"
      },
      "source": [
        "cd drive/Shareddrives/DL_project_files/gong2_data"
      ],
      "execution_count": null,
      "outputs": []
    },
    {
      "cell_type": "code",
      "metadata": {
        "id": "8l5zd28RP5Qh"
      },
      "source": [
        "from keras.models import Sequential\n",
        "from keras.layers import Dense, LSTM, Activation\n",
        "from keras import optimizers, initializers, losses\n",
        "from keras.wrappers.scikit_learn import KerasClassifier\n",
        "import data_helper as dh\n",
        "import numpy as np\n",
        "from matplotlib import pyplot as plt\n",
        "\n",
        "\n",
        "# parameter \n",
        "s_n = 53 # station number\n",
        "v_len = 358 # one-hot encoding length + delay time\n",
        "time_step_n = 10\n",
        "node_n1 = 50 # hidden layer node\n",
        "node_n2 = 20 # hidden layer node\n",
        "epoch = 5\n",
        "data_n = 2000 # 'all' or integer\n",
        "train_data_n = 1800 # 학습 data 수\n",
        "\n",
        "\n",
        "# LSTM model\n",
        "def LSTM_model():\n",
        "    model = Sequential()\n",
        "    model.add(LSTM(node_n2, batch_input_shape = (1, time_step_n, v_len), stateful=True))\n",
        "    model.add(Dense(1, kernel_initializer=initializers.he_normal()))\n",
        "\n",
        "\n",
        "\n",
        "    adam = optimizers.Adam(lr = 0.0001) # optimizer\n",
        "    model.compile(loss = 'mean_squared_error', optimizer = adam, metrics = ['mean_squared_error'])\n",
        "    \n",
        "    return model\n",
        "\n",
        "\n",
        "# data split\n",
        "x, y = dh.readDataV2('./gong2_data.csv', count=data_n)\n",
        "x_test = x[train_data_n:]\n",
        "y_test = y[train_data_n:]\n",
        "x = x[:train_data_n]\n",
        "y = y[:train_data_n]"
      ],
      "execution_count": null,
      "outputs": []
    },
    {
      "cell_type": "code",
      "metadata": {
        "id": "iSC2V9MXhcfu"
      },
      "source": [
        "model = LSTM_model()\n",
        "model.summary()"
      ],
      "execution_count": null,
      "outputs": []
    },
    {
      "cell_type": "code",
      "metadata": {
        "id": "jyZcdXw7QGv9"
      },
      "source": [
        "# training\n",
        "model = LSTM_model()\n",
        "print('======================= Training ================================')\n",
        "for m in range(epoch):\n",
        "    print('======================= epoch %d ================================' % (m+1))\n",
        "    for l in range(train_data_n): # 열차마다 반복\n",
        "        x1 = x[l] # 한 열차의 data\n",
        "        x2 = [] # input으로 들어갈 set들\n",
        "        for i in range(len(x1) - time_step_n):\n",
        "            xxx = [] # 한 set\n",
        "            for k in range(time_step_n):\n",
        "                xxx.append(x1[i+k])\n",
        "            x2.append(xxx) \n",
        "        x2 = np.array(x2)\n",
        "\n",
        "        y1 = y[l] # 한 열차의 실제 지연시간 \n",
        "        y2 = y1[time_step_n:] # set에 따른 정답\n",
        "        y2 = np.array(y2)\n",
        "\n",
        "        print('train %d' % (l+1))\n",
        "        model.fit(x2, y2, batch_size = 1, epochs = 1, verbose=2, shuffle=False)\n",
        "        model.reset_states()\n",
        "print('=================================================================')"
      ],
      "execution_count": null,
      "outputs": []
    },
    {
      "cell_type": "code",
      "metadata": {
        "id": "pwh4QqIJQLMs"
      },
      "source": [
        "# test\n",
        "import pandas as pd\n",
        "\n",
        "x_test = np.array(x_test)\n",
        "y_test = np.array(y_test)\n",
        "total_accuracy = [] # accuracy 모음\n",
        "\n",
        "y_pred = np.empty((0, s_n, 1)) # 전체 예측값\n",
        "for i in range(data_n - train_data_n): # 열차마다 반복\n",
        "    print('======================= Train %d ================================' % (i+1))\n",
        "    x_input_one = np.reshape(x_test[i, :time_step_n, :], (1, time_step_n, v_len)) # 모델에 넣을 input, size: (1, time_step_n, v_len)\n",
        "\n",
        "    y_pred_one = y_test[i, :time_step_n, :] # 한 열차의 예측값들, 나중에 append를 해서 값 추가, 처음 time_step_n개의 data는 실제값, 처음 size: (time_step_n, 1)\n",
        "    y_test_one = y_test[i, :, :] # 한 열차의 실제 지연 시간, size: (53, 1)\n",
        "\n",
        "    for k in range(s_n - time_step_n): # 한 열차에서 지연시간 예측\n",
        "        y_step = model.predict(x_input_one) # 한 다음 지연 시간 예측\n",
        "        y_pred_one = np.append(y_pred_one ,y_step, axis=0)\n",
        "\n",
        "        x_input_one = np.append(x_input_one, np.reshape(x_test[i, time_step_n + k, :], (1, 1, v_len)), axis=1) # 모델에 들어갈 input에 feature vector 추가\n",
        "        x_input_one[-1, -1, -1] = y_step # feature vector의 마지막 값은 예측 지연시간으로 대입\n",
        "        x_input_one = np.delete(x_input_one, 0, axis=1) # 맨앞의 feature vector 삭제\n",
        "\n",
        "    mse = losses.MeanSquaredError()\n",
        "    print('loss: ', mse(y_pred_one[5:, :], y_test_one[5:, :]).numpy()) # 앞의 5개의 실제 지연시간을 제외한 값들의 loss\n",
        "\n",
        "    # accuracy\n",
        "    y_error = abs(y_pred_one[5:, :] - y_test_one[5:, :]) # 오차 계산\n",
        "    r, __ = np.where(y_error < 60) # 일정 시간보다 작은 곳의 index\n",
        "    acc_percent = len(r) / y_error.size * 100\n",
        "    total_accuracy.append(acc_percent)\n",
        "    print('accuracy: %.2f' %(acc_percent), '%')\n",
        "\n",
        "    y_pred = np.append(y_pred, np.reshape(y_pred_one, (1, s_n, 1)), axis=0) # 한 열차의 예측값 저장, size: ( 열차수, s_n, 1(지연 시간) )\n",
        "    model.reset_states() # 모델 state 초기화\n",
        "\n",
        "print('=================================================================')\n",
        "\n",
        "print('Final accuracy: %.2f' %(sum(total_accuracy)/len(total_accuracy))) # 전체 성능"
      ],
      "execution_count": null,
      "outputs": []
    },
    {
      "cell_type": "code",
      "metadata": {
        "id": "N4IY-jSS6JdO"
      },
      "source": [
        "# save result\n",
        "y_pred1 = np.squeeze(y_pred)\n",
        "df = pd.DataFrame(y_pred1)\n",
        "df.index = range(1,len(y_pred1)+1)\n",
        "df.to_csv('./lstm_result.csv')\n",
        "\n",
        "# save test data\n",
        "y_test1 = np.squeeze(y_test)\n",
        "df = pd.DataFrame(y_test1)\n",
        "df.index = range(1,len(y_test1)+1)\n",
        "df.to_csv('./lstm_test_data.csv')"
      ],
      "execution_count": null,
      "outputs": []
    },
    {
      "cell_type": "code",
      "metadata": {
        "id": "gXrdt3Voj7N_"
      },
      "source": [
        "plt.hist(y_pred[0])\n",
        "plt.hist(y_test[0])\n",
        "#plt.xlabel('Time of day')\n",
        "plt.ylabel('Delay Time')\n",
        "plt.title('Train 1 Predicted vs. True Delay Time')\n",
        "plt.show()"
      ],
      "execution_count": null,
      "outputs": []
    },
    {
      "cell_type": "code",
      "metadata": {
        "id": "iVlIdoxvFhs4"
      },
      "source": [
        "plt.hist(y_pred[1])\n",
        "plt.hist(y_test[1])\n",
        "#plt.xlabel('Time of day')\n",
        "plt.ylabel('Delay Time')\n",
        "plt.title('Train 2 Predicted vs. True Delay Time')\n",
        "plt.show()"
      ],
      "execution_count": null,
      "outputs": []
    },
    {
      "cell_type": "code",
      "metadata": {
        "id": "fIhvzhAjFre_"
      },
      "source": [
        "plt.hist(y_pred[24])\n",
        "plt.hist(y_test[24])\n",
        "#plt.xlabel('Time of day')\n",
        "plt.ylabel('Delay Time')\n",
        "plt.title('Train 25 Predicted vs. True Delay Time')\n",
        "plt.show()"
      ],
      "execution_count": null,
      "outputs": []
    },
    {
      "cell_type": "code",
      "metadata": {
        "id": "LNujKh-wFwmD"
      },
      "source": [
        "plt.hist(y_pred[39])\n",
        "plt.hist(y_test[39])\n",
        "#plt.xlabel('Time of day')\n",
        "plt.ylabel('Delay Time')\n",
        "plt.title('Train 40 Predicted vs. True Delay Time')\n",
        "plt.show()"
      ],
      "execution_count": null,
      "outputs": []
    },
    {
      "cell_type": "code",
      "metadata": {
        "id": "oxOrbsu6Fayv"
      },
      "source": [
        "plt.hist(y_pred[49])\n",
        "plt.hist(y_test[49])\n",
        "#plt.xlabel('Time of day')\n",
        "plt.ylabel('Delay Time')\n",
        "plt.title('Train 50 Predicted vs. True Delay Time')\n",
        "plt.show()"
      ],
      "execution_count": null,
      "outputs": []
    },
    {
      "cell_type": "code",
      "metadata": {
        "id": "B-TUzHI_m0Uc"
      },
      "source": [
        "# No Pad Model"
      ],
      "execution_count": null,
      "outputs": []
    },
    {
      "cell_type": "code",
      "metadata": {
        "id": "CJOWcQCem0da"
      },
      "source": [
        "cd drive/Shareddrives/DL_project_files/gong2_data"
      ],
      "execution_count": null,
      "outputs": []
    },
    {
      "cell_type": "code",
      "metadata": {
        "id": "NPBhqkamm0rV"
      },
      "source": [
        "from keras.models import Sequential\n",
        "from keras.layers import Dense, LSTM, Activation\n",
        "from keras import optimizers, initializers, losses\n",
        "from keras.wrappers.scikit_learn import KerasClassifier\n",
        "import data_helper as dh\n",
        "import numpy as np\n",
        "from matplotlib import pyplot as plt\n",
        "\n",
        "\n",
        "# parameter \n",
        "s_n = 53 # station number\n",
        "v_len = 358 # one-hot encoding length + delay time\n",
        "time_step_n = 10\n",
        "node_n1 = 50 # hidden layer node\n",
        "node_n2 = 20 # hidden layer node\n",
        "epoch = 5\n",
        "data_n = 2000 # 'all' or integer\n",
        "train_data_n = 1800 # 학습 data 수\n",
        "\n",
        "\n",
        "# LSTM model\n",
        "def LSTM_model():\n",
        "    model = Sequential()\n",
        "    model.add(LSTM(node_n2, batch_input_shape = (1, time_step_n, v_len), stateful=True))\n",
        "    model.add(Dense(1, kernel_initializer=initializers.he_normal()))\n",
        "\n",
        "\n",
        "\n",
        "    adam = optimizers.Adam(lr = 0.0001) # optimizer\n",
        "    model.compile(loss = 'mean_squared_error', optimizer = adam, metrics = ['mean_squared_error'])\n",
        "    \n",
        "    return model\n",
        "\n",
        "\n",
        "# data split\n",
        "x, y = dh.readDataV2_nopad('./gong2_data_nopad.csv', count=data_n)\n",
        "x_test = x[train_data_n:]\n",
        "y_test = y[train_data_n:]\n",
        "x = x[:train_data_n]\n",
        "y = y[:train_data_n]"
      ],
      "execution_count": null,
      "outputs": []
    },
    {
      "cell_type": "code",
      "metadata": {
        "id": "zYLiHQj5nAq0"
      },
      "source": [
        "# training\n",
        "model = LSTM_model()\n",
        "print('======================= Training ================================')\n",
        "for m in range(epoch):\n",
        "    print('======================= epoch %d ================================' % (m+1))\n",
        "    for l in range(train_data_n): # 열차마다 반복\n",
        "        x1 = x[l] # 한 열차의 data\n",
        "        x2 = [] # input으로 들어갈 set들\n",
        "        for i in range(len(x1) - time_step_n):\n",
        "            xxx = [] # 한 set\n",
        "            for k in range(time_step_n):\n",
        "                xxx.append(x1[i+k])\n",
        "            x2.append(xxx) \n",
        "        x2 = np.array(x2)\n",
        "\n",
        "        y1 = y[l] # 한 열차의 실제 지연시간 \n",
        "        y2 = y1[time_step_n:] # set에 따른 정답\n",
        "        y2 = np.array(y2)\n",
        "\n",
        "        print('train %d' % (l+1))\n",
        "        model.fit(x2, y2, batch_size = 1, epochs = 1, verbose=2, shuffle=False)\n",
        "        model.reset_states()\n",
        "print('=================================================================')\n",
        "model.save('./2000_100_nopad_lstm')"
      ],
      "execution_count": null,
      "outputs": []
    },
    {
      "cell_type": "code",
      "metadata": {
        "id": "Geo0GkvgnQ4F"
      },
      "source": [
        "# test\n",
        "\n",
        "import pandas as pd\n",
        "\n",
        "print(x_test[1])\n",
        "total_accuracy = [] # accuracy 모음\n",
        "\n",
        "y_pred = [] # 전체 예측값\n",
        "for i in range(data_n - train_data_n): # 열차마다 반복\n",
        "    print('======================= Train %d ================================' % (i+1))\n",
        "    x_input_one = np.reshape(x_test[i][0:10], (1, time_step_n, v_len)) # 모델에 넣을 input, size: (1, time_step_n, v_len)\n",
        "    #print(x_input_one[0,0:10,357])\n",
        "    # if(x_input_one[0,9,357]==0):\n",
        "    #     continue\n",
        "    y_pred_one = np.array(y_test[i][0:10]) # 한 열차의 예측값들, 나중에 append를 해서 값 추가, 처음 time_step_n개의 data는 실제값, 처음 size: (time_step_n, 1)\n",
        "    y_test_one = np.array(y_test[i]) # 한 열차의 실제 지연 시간, size: (53, 1)\n",
        "    s_n = len(x_test[i])\n",
        "    for k in range(s_n - time_step_n): # 한 열차에서 지연시간 예측\n",
        "        y_step = model.predict(x_input_one) # 한 다음 지연 시간 예측\n",
        "        y_pred_one = np.append(y_pred_one ,y_step, axis=0)\n",
        "\n",
        "        x_input_one = np.append(x_input_one, np.reshape(x_test[i][time_step_n + k], (1, 1, v_len)), axis=1) # 모델에 들어갈 input에 feature vector 추가\n",
        "        x_input_one[-1, -1, -1] = y_step # feature vector의 마지막 값은 예측 지연시간으로 대입\n",
        "        x_input_one = np.delete(x_input_one, 0, axis=1) # 맨앞의 feature vector 삭제\n",
        "\n",
        "    mse = losses.MeanSquaredError()\n",
        "    print('loss: ', mse(y_pred_one[5:, :], y_test_one[5:, :]).numpy()) # 앞의 5개의 실제 지연시간을 제외한 값들의 loss\n",
        "\n",
        "    # accuracy\n",
        "    y_error = abs(y_pred_one[5:, :] - y_test_one[5:, :]) # 오차 계산\n",
        "    r, __ = np.where(y_error < 60) # 일정 시간보다 작은 곳의 index\n",
        "    acc_percent = len(r) / y_error.size * 100\n",
        "    total_accuracy.append(acc_percent)\n",
        "    print('accuracy: %.2f' %(acc_percent), '%')\n",
        "    \n",
        "    y_pred.append(y_pred_one) # 한 열차의 예측값 저장, size: ( 열차수, s_n, 1(지연 시간) )\n",
        "    model.reset_states() # 모델 state 초기화\n",
        "\n",
        "print('=================================================================')\n",
        "\n",
        "print('Final accuracy: %.2f' %(sum(total_accuracy)/len(total_accuracy))) # 전체 성능"
      ],
      "execution_count": null,
      "outputs": []
    },
    {
      "cell_type": "code",
      "metadata": {
        "id": "8IjLnr53nYyX"
      },
      "source": [
        "# save result\n",
        "y_pred1 = np.squeeze(y_pred)\n",
        "df = pd.DataFrame(y_pred1)\n",
        "df.index = range(1,len(y_pred1)+1)\n",
        "df.to_csv('./pred_2000_200_lstm.csv')\n",
        "\n",
        "# save test data\n",
        "y_test1 = np.squeeze(y_test)\n",
        "df = pd.DataFrame(y_test1)\n",
        "df.index = range(1,len(y_test1)+1)\n",
        "df.to_csv('./test_2000_200_lstm.csv')"
      ],
      "execution_count": null,
      "outputs": []
    },
    {
      "cell_type": "code",
      "metadata": {
        "id": "Ghzfe7GqugPX"
      },
      "source": [
        "plt.plot(y_pred[192], label='Predicted')\n",
        "plt.plot(y_test[192], label = 'Real')\n",
        "#plt.xlabel('Time of day')\n",
        "plt.ylabel('Delay Time')\n",
        "plt.title('Train 193 Predicted vs. True Delay Time')\n",
        "plt.legend()\n",
        "plt.show()"
      ],
      "execution_count": null,
      "outputs": []
    },
    {
      "cell_type": "code",
      "metadata": {
        "id": "h07T07MBwDi1"
      },
      "source": [
        "plt.plot(y_pred[109], label='Predicted')\n",
        "plt.plot(y_test[109], label = 'Real')\n",
        "#plt.xlabel('Time of day')\n",
        "plt.ylabel('Delay Time')\n",
        "plt.title('Train 110 Predicted vs. True Delay Time')\n",
        "plt.legend()\n",
        "plt.show()"
      ],
      "execution_count": null,
      "outputs": []
    },
    {
      "cell_type": "code",
      "metadata": {
        "id": "-FRxccxVwTGC"
      },
      "source": [
        "plt.plot(y_pred[30], label='Predicted')\n",
        "plt.plot(y_test[30], label = 'Real')\n",
        "#plt.xlabel('Time of day')\n",
        "plt.ylabel('Delay Time')\n",
        "plt.title('Train 31 Predicted vs. True Delay Time')\n",
        "plt.legend()\n",
        "plt.show()"
      ],
      "execution_count": null,
      "outputs": []
    },
    {
      "cell_type": "code",
      "metadata": {
        "id": "mxiwJmjb0P1I"
      },
      "source": [
        ""
      ],
      "execution_count": null,
      "outputs": []
    }
  ]
}