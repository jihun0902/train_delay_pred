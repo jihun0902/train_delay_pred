{
  "nbformat": 4,
  "nbformat_minor": 0,
  "metadata": {
    "colab": {
      "name": "Simple_RNN_model.ipynb",
      "provenance": [],
      "collapsed_sections": []
    },
    "kernelspec": {
      "display_name": "Python 3",
      "name": "python3"
    }
  },
  "cells": [
    {
      "cell_type": "code",
      "metadata": {
        "id": "ow134DUeUi7k"
      },
      "source": [
        "from keras.models import Sequential\n",
        "from keras.layers import Dense, SimpleRNN, Activation\n",
        "from keras import optimizers, initializers, losses\n",
        "from keras.wrappers.scikit_learn import KerasClassifier\n",
        "import data_helper as dh\n",
        "import numpy as np\n",
        "from matplotlib import pyplot as plt\n",
        "\n",
        "\n",
        "# parameter \n",
        "s_n = 53 # station number\n",
        "v_len = 358 # one-hot encoding length + delay time\n",
        "time_step_n = 10\n",
        "node_n1 = 50 # hidden layer node\n",
        "node_n2 = 100 # hidden layer node\n",
        "epoch = 2\n",
        "data_n = 20000 # 'all' or integer\n",
        "train_data_n = 18000 # 학습 data 수\n",
        "\n",
        "\n",
        "# RNN model\n",
        "def RNN_model():\n",
        "    model = Sequential()\n",
        "    # model.add(Dense(node_n1, kernel_initializer=initializers.he_normal()))\n",
        "    model.add(SimpleRNN(node_n2, batch_input_shape = (1, time_step_n, v_len), stateful=True))\n",
        "    model.add(Dense(1, kernel_initializer=initializers.he_normal()))\n",
        "\n",
        "\n",
        "\n",
        "    adam = optimizers.Adam(lr = 0.0001) # optimizer\n",
        "    model.compile(loss = 'mean_squared_error', optimizer = adam, metrics = ['mean_squared_error'])\n",
        "    \n",
        "    return model\n",
        "\n",
        "\n",
        "# data split\n",
        "x, y = dh.readDataV2_nopad('./gong2_data_nopad.csv', count=data_n)\n",
        "x_test = x[train_data_n:]\n",
        "y_test = y[train_data_n:]\n",
        "x = x[:train_data_n]\n",
        "y = y[:train_data_n]"
      ],
      "execution_count": 2,
      "outputs": []
    },
    {
      "cell_type": "code",
      "metadata": {
        "id": "gXn9IZ94kSBZ"
      },
      "source": [
        "# training\n",
        "model = RNN_model()\n",
        "print('======================= Training ================================')\n",
        "for m in range(epoch):\n",
        "    print('======================= epoch %d ================================' % (m+1))\n",
        "    for l in range(train_data_n): # 열차마다 반복\n",
        "        x1 = x[l] # 한 열차의 data\n",
        "        x2 = [] # input으로 들어갈 set들\n",
        "        for i in range(len(x1) - time_step_n):\n",
        "            xxx = [] # 한 set\n",
        "            for k in range(time_step_n):\n",
        "                xxx.append(x1[i+k])\n",
        "            x2.append(xxx) \n",
        "        x2 = np.array(x2)\n",
        "\n",
        "        y1 = y[l] # 한 열차의 실제 지연시간 \n",
        "        y2 = y1[time_step_n:] # set에 따른 정답\n",
        "        y2 = np.array(y2)\n",
        "\n",
        "        # print('train %d' % (l+1))\n",
        "        model.fit(x2, y2, batch_size = 1, epochs = 1, verbose=0, shuffle=False)\n",
        "        model.reset_states()\n",
        "print('=================================================================')\n",
        "model.save('./20000_100_nopad')"
      ],
      "execution_count": null,
      "outputs": []
    },
    {
      "cell_type": "code",
      "metadata": {
        "id": "19G8cckmaRZ8"
      },
      "source": [
        "# test\n",
        "from keras.models import load_model\n",
        "import pandas as pd\n",
        "\n",
        "model = load_model('./20000_100_nopad')\n",
        "\n",
        "total_accuracy = [] # accuracy 모음\n",
        "\n",
        "y_pred = [] # 전체 예측값\n",
        "for i in range(data_n - train_data_n): # 열차마다 반복\n",
        "    print('======================= Train %d ================================' % (i+1))\n",
        "    x_input_one = np.reshape(x_test[i][0:10], (1, time_step_n, v_len)) # 모델에 넣을 input, size: (1, time_step_n, v_len)\n",
        "    #print(x_input_one[0,0:10,357])\n",
        "    # if(x_input_one[0,9,357]==0):\n",
        "    #     continue\n",
        "    y_pred_one = np.array(y_test[i][0:10]) # 한 열차의 예측값들, 나중에 append를 해서 값 추가, 처음 time_step_n개의 data는 실제값, 처음 size: (time_step_n, 1)\n",
        "    y_test_one = np.array(y_test[i]) # 한 열차의 실제 지연 시간, size: (53, 1)\n",
        "    s_n = len(x_test[i])\n",
        "    for k in range(s_n - time_step_n): # 한 열차에서 지연시간 예측\n",
        "        y_step = model.predict(x_input_one) # 한 다음 지연 시간 예측\n",
        "        y_pred_one = np.append(y_pred_one ,y_step, axis=0)\n",
        "\n",
        "        x_input_one = np.append(x_input_one, np.reshape(x_test[i][time_step_n + k], (1, 1, v_len)), axis=1) # 모델에 들어갈 input에 feature vector 추가\n",
        "        x_input_one[-1, -1, -1] = y_step # feature vector의 마지막 값은 예측 지연시간으로 대입\n",
        "        x_input_one = np.delete(x_input_one, 0, axis=1) # 맨앞의 feature vector 삭제\n",
        "\n",
        "    mse = losses.MeanSquaredError()\n",
        "    print('loss: ', mse(y_pred_one[5:, :], y_test_one[5:, :]).numpy()) # 앞의 5개의 실제 지연시간을 제외한 값들의 loss\n",
        "\n",
        "    # accuracy\n",
        "    y_error = abs(y_pred_one[5:, :] - y_test_one[5:, :]) # 오차 계산\n",
        "    r, __ = np.where(y_error < 60) # 일정 시간보다 작은 곳의 index\n",
        "    acc_percent = len(r) / y_error.size * 100\n",
        "    total_accuracy.append(acc_percent)\n",
        "    print('accuracy: %.2f' %(acc_percent), '%')\n",
        "    \n",
        "    y_pred.append(y_pred_one) # 한 열차의 예측값 저장, size: ( 열차수, s_n, 1(지연 시간) )\n",
        "    model.reset_states() # 모델 state 초기화\n",
        "\n",
        "print('=================================================================')\n",
        "\n",
        "print('Final accuracy: %.2f' %(sum(total_accuracy)/len(total_accuracy))) # 전체 성능"
      ],
      "execution_count": null,
      "outputs": []
    },
    {
      "cell_type": "code",
      "metadata": {
        "id": "eX8i6j0KPFJa"
      },
      "source": [
        "# save result\r\n",
        "\r\n",
        "AD = []\r\n",
        "\r\n",
        "for item in y_pred:\r\n",
        "    line =[]\r\n",
        "    for it in item:\r\n",
        "        line.append(it[0])\r\n",
        "    AD.append(line)\r\n",
        "df = pd.DataFrame(AD)\r\n",
        "df.to_csv('result_2000_100_1.csv')\r\n",
        "\r\n",
        "# df = pd.DataFrame(list(y_pred))\r\n",
        "# df.to_csv('result_2000_100.csv')\r\n",
        "\r\n",
        "# save test data\r\n",
        "AD = []\r\n",
        "\r\n",
        "for item in y_test:\r\n",
        "    line =[]\r\n",
        "    for it in item:\r\n",
        "        line.append(it[0])\r\n",
        "    AD.append(line)\r\n",
        "df = pd.DataFrame(AD)\r\n",
        "df.to_csv('test_2000_100_1.csv')\r\n",
        "\r\n",
        "# df = pd.DataFrame(list(y_test))\r\n",
        "# df.to_csv('test_data_2000_100.csv')"
      ],
      "execution_count": 6,
      "outputs": []
    },
    {
      "cell_type": "code",
      "metadata": {
        "id": "tsvYkgEWULG4"
      },
      "source": [
        "for i in range(20):\r\n",
        "    plt.plot(y_pred[i], label='Predicted')\r\n",
        "    plt.plot(y_test[i], label = 'Real')\r\n",
        "    #plt.xlabel('Time of day')\r\n",
        "    plt.ylabel('Delay Time')\r\n",
        "    plt.legend()\r\n",
        "    plt.show()"
      ],
      "execution_count": null,
      "outputs": []
    }
  ]
}